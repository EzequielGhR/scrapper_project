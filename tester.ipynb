{
 "cells": [
  {
   "cell_type": "code",
   "execution_count": 1,
   "metadata": {},
   "outputs": [],
   "source": [
    "%load_ext autoreload\n",
    "%autoreload 2\n",
    "import os\n",
    "import sys\n",
    "import inspect\n",
    "\n",
    "currentdir = os.path.dirname(os.path.abspath(inspect.getfile(inspect.currentframe())))\n",
    "parentdir = os.path.dirname(currentdir) \n",
    "sys.path.append(parentdir)"
   ]
  },
  {
   "cell_type": "code",
   "execution_count": 2,
   "metadata": {},
   "outputs": [],
   "source": [
    "import requests\n",
    "import re\n",
    "import pandas as pd\n",
    "\n",
    "from bs4 import BeautifulSoup\n",
    "\n",
    "\n",
    "response = requests.get('https://cityclerk.lacity.org/lacityclerkconnect/index.cfm?fa=ccfi.viewrecord&cfnumber=21-1247')\n",
    "soup = BeautifulSoup(response.text, \"html.parser\")"
   ]
  },
  {
   "cell_type": "code",
   "execution_count": 19,
   "metadata": {},
   "outputs": [
    {
     "name": "stdout",
     "output_type": "stream",
     "text": [
      "Connecting to 'storage.db'\n"
     ]
    },
    {
     "data": {
      "text/plain": [
       "7"
      ]
     },
     "execution_count": 19,
     "metadata": {},
     "output_type": "execute_result"
    }
   ],
   "source": [
    "import json\n",
    "from scrapper.transform_load import table_cleaner, DataBase\n",
    "\n",
    "with open('extracted_raw/LaCLerk_spider_results.json') as f:\n",
    "    json_=json.load(f)\n",
    "\n",
    "frames = table_cleaner(json_[1])\n",
    "db = DataBase()\n",
    "\n",
    "db.update_from_frame(frames[0], 'actions')\n",
    "db.update_from_frame(frames[1], 'documents')\n",
    "db.update_from_frame(frames[2], 'summary')\n",
    "db.update_from_frame(frames[3], 'vote')\n",
    "db.update_from_frame(frames[4], 'members')\n",
    "db.update_from_frame(frames[5], 'actions_documents')\n"
   ]
  },
  {
   "cell_type": "code",
   "execution_count": 24,
   "metadata": {},
   "outputs": [
    {
     "data": {
      "text/html": [
       "<div>\n",
       "<style scoped>\n",
       "    .dataframe tbody tr th:only-of-type {\n",
       "        vertical-align: middle;\n",
       "    }\n",
       "\n",
       "    .dataframe tbody tr th {\n",
       "        vertical-align: top;\n",
       "    }\n",
       "\n",
       "    .dataframe thead th {\n",
       "        text-align: right;\n",
       "    }\n",
       "</style>\n",
       "<table border=\"1\" class=\"dataframe\">\n",
       "  <thead>\n",
       "    <tr style=\"text-align: right;\">\n",
       "      <th></th>\n",
       "      <th>file_id</th>\n",
       "      <th>url</th>\n",
       "      <th>date_received</th>\n",
       "      <th>last_modified</th>\n",
       "      <th>expiration</th>\n",
       "      <th>reference</th>\n",
       "      <th>district</th>\n",
       "      <th>initiated_date</th>\n",
       "      <th>title</th>\n",
       "      <th>initiated_by</th>\n",
       "    </tr>\n",
       "  </thead>\n",
       "  <tbody>\n",
       "    <tr>\n",
       "      <th>0</th>\n",
       "      <td>14-0694</td>\n",
       "      <td>https://cityclerk.lacity.org/lacityclerkconnec...</td>\n",
       "      <td>2014-05-27</td>\n",
       "      <td>2014-08-01</td>\n",
       "      <td>2016-07-30</td>\n",
       "      <td>None</td>\n",
       "      <td>15</td>\n",
       "      <td>NaT</td>\n",
       "      <td>L Street / Lecouvreur Street / Zone Change App...</td>\n",
       "      <td></td>\n",
       "    </tr>\n",
       "  </tbody>\n",
       "</table>\n",
       "</div>"
      ],
      "text/plain": [
       "   file_id                                                url date_received  \\\n",
       "0  14-0694  https://cityclerk.lacity.org/lacityclerkconnec...    2014-05-27   \n",
       "\n",
       "  last_modified  expiration reference district initiated_date  \\\n",
       "0    2014-08-01  2016-07-30      None       15            NaT   \n",
       "\n",
       "                                               title initiated_by  \n",
       "0  L Street / Lecouvreur Street / Zone Change App...               "
      ]
     },
     "execution_count": 24,
     "metadata": {},
     "output_type": "execute_result"
    }
   ],
   "source": [
    "conn= db.conn\n",
    "\n",
    "pd.read_sql_table('summary', conn)"
   ]
  },
  {
   "cell_type": "code",
   "execution_count": 10,
   "metadata": {},
   "outputs": [
    {
     "data": {
      "text/html": [
       "<div>\n",
       "<style scoped>\n",
       "    .dataframe tbody tr th:only-of-type {\n",
       "        vertical-align: middle;\n",
       "    }\n",
       "\n",
       "    .dataframe tbody tr th {\n",
       "        vertical-align: top;\n",
       "    }\n",
       "\n",
       "    .dataframe thead th {\n",
       "        text-align: right;\n",
       "    }\n",
       "</style>\n",
       "<table border=\"1\" class=\"dataframe\">\n",
       "  <thead>\n",
       "    <tr style=\"text-align: right;\">\n",
       "      <th></th>\n",
       "      <th>file_id</th>\n",
       "      <th>name</th>\n",
       "      <th>url</th>\n",
       "      <th>date</th>\n",
       "      <th>actions_index</th>\n",
       "    </tr>\n",
       "  </thead>\n",
       "  <tbody>\n",
       "  </tbody>\n",
       "</table>\n",
       "</div>"
      ],
      "text/plain": [
       "Empty DataFrame\n",
       "Columns: [file_id, name, url, date, actions_index]\n",
       "Index: []"
      ]
     },
     "execution_count": 10,
     "metadata": {},
     "output_type": "execute_result"
    }
   ],
   "source": [
    "import pandas as pd\n",
    "\n",
    "\n",
    "pd.read_sql_table('documents', db.conn)"
   ]
  },
  {
   "cell_type": "code",
   "execution_count": 7,
   "metadata": {},
   "outputs": [
    {
     "name": "stderr",
     "output_type": "stream",
     "text": [
      "<ipython-input-7-9f6e73dff187>:1: SADeprecationWarning: The Engine.table_names() method is deprecated and will be removed in a future release.  Please refer to Inspector.get_table_names(). (deprecated since: 1.4)\n",
      "  db.conn.engine.table_names()\n"
     ]
    },
    {
     "data": {
      "text/plain": [
       "['actions', 'documents', 'members', 'summary', 'vote']"
      ]
     },
     "execution_count": 7,
     "metadata": {},
     "output_type": "execute_result"
    }
   ],
   "source": [
    "db.conn.engine.table_names()"
   ]
  },
  {
   "cell_type": "code",
   "execution_count": 27,
   "metadata": {},
   "outputs": [
    {
     "data": {
      "text/plain": [
       "<sqlalchemy.engine.cursor.LegacyCursorResult at 0x7fc5c8fe17c0>"
      ]
     },
     "execution_count": 27,
     "metadata": {},
     "output_type": "execute_result"
    }
   ],
   "source": [
    "from sqlalchemy import create_engine\n",
    "from scrapper.constants import ACTIONS_TABLE_SQL\n",
    "\n",
    "engine = create_engine('sqlite:///test.db')\n",
    "conn = engine.connect()\n",
    "conn.execute(ACTIONS_TABLE_SQL)"
   ]
  },
  {
   "cell_type": "code",
   "execution_count": 28,
   "metadata": {},
   "outputs": [
    {
     "name": "stderr",
     "output_type": "stream",
     "text": [
      "<ipython-input-28-25655b114a98>:1: SADeprecationWarning: The Engine.table_names() method is deprecated and will be removed in a future release.  Please refer to Inspector.get_table_names(). (deprecated since: 1.4)\n",
      "  conn.engine.table_names()\n"
     ]
    }
   ],
   "source": [
    "conn.engine.table_names()\n",
    "conn.close()"
   ]
  },
  {
   "cell_type": "code",
   "execution_count": 129,
   "metadata": {},
   "outputs": [
    {
     "data": {
      "text/plain": [
       "\"6-6-06 - This day's Council session 6-6-06 - Ref to Planning and Land Use Management Committee 6-6-06 - File to Planning and Land Use Management Committee Clerk 8-11-06 - Set for Planning and Land Use Management Committee on August 15, 2006 8-15-06 - Planning and Land Use Management Committee Disposition - Refer to staff 8-16-06 - Letter to Planning and Building and Safety Departments and City Attorney per Planning and Land Use Management Committee Clerk 7-11-07 - For ref - Communication from the City Planning Commission, dated July 9, 2007, relative to a proposed Baseline Mansionization Ordinance applicable to all properties zoned single-family residential (R1, RS, RE9, RE11, RE15, RA, RE20, and RE40), not located in Hillside Area or Coastal Zone, that amends various sections of the Los Angeles Municipal Code (LAMC) including Sections 12.03, Subsection C of Sections 12.07, 12.07.01, 12.07.1, 12.08, Section 12.21.1\\nA, and Section 12.28\\nA / CPC 2007-106-CA. 7-12-07 - Ref to Planning and Land Use Management Committee - to Committee Clerk 7-19-07 - Set for Planning and Land Use Management Committee on July 24, 2007 7-24-07 - Planning and Land Use Management Committee Disposition - Approve, request City Attorney to prepare Ordinance 10-18-07 - For ref - Communication from the City Attorney R07-0382, dated October 18, 2007, and a draft ordinance amending Los Angeles Municipal Code Sections 12.03, 12.07, 12.07.01, 12.07.1, 12.08, 12.21.1, 12.23 and 12.28 establishing floor area limitations for residentially zoned properties (RA, RE, RS, and R1) not located in a hillside area or coastal zone - CPC 2007-0106-CA. 10-19-07 - Ref to Planning and Land Use Management Committee - to Committee Clerk 11-16-07 - Set for Planning and Land Use Management Committee on November 20, 2007 11-20-07 - Planning and Land Use Management Committee Disposition - Continued to December 18, 2007 11-20-07 - Communication from Tarzana Property Owners Association, Inc. dated November 20, 2007, submitted in Planning and Land Use Management Committee relative to proposed Baseline Mansionization Ordinance - is attached to Council file. 11-20-07 - Communication from Beverly Hills Greater Los Angeles Association of Realtors, dated November 20, 2007, submitted in Planning and Land Use Management Committee relative to proposed Baseline Mansionization Ordinance - is attached to Council file. 11-20-07 - Communication from the Public, submitted in Planning and Land Use Management Committee, relative to the Mansionization Ordinance - is attached to Council file. 12-1-07 - Communication from the Studio City Neighborhood Council, dated December 1, 2007, relative to Community Impact Statement - is attached to Council file. 12-17-07 - Communication from Bel Air Beverly Crest Neighborhood Council, dated December 14, 2007, relative to Community Impact Statement - is attached to Council file. 12-18-07 - Planning and Land Use Management Committee Disposition - Chief Legislative Analyst and Planning Department to report back on January 8, 2008 12-18-07 - Surveys from the Public, submitted in Planning and Land Use Management Committee, relative to the Mansionization Ordinance - is attached to Council file. 12-18-07 - Speaker Cards from the Public, submitted in Planning and Land Use Management Committee, relative to the Mansionization Ordinance - is attached to Council file. 12-18-07 - Communication from Building Industrial Association (BIA) of Southern California, dated December 18, 2007, submitted in Planning and Land Use Management Committee, relative to the Mansionization Ordinance - is attached to Council file. 12-18-07 - Communication from Hancock Park Homeowners Association, dated December 18, 2007, submitted in Planning and Land Use Management Committee, relative to the Mansionization Ordinance - is attached to Council file. 12-18-07 - Communication from the Neighborhoods in Tarzana, submitted in Planning and Land Use Management Committee, relative to the Mansionization Ordinance - is attached to Council file. 12-18-07 - Communication from Planning Department, Community Planning Bureau, dated December 18, 2007, submitted in Planning and Land Use Management Committee, relative to the Mansionization Ordinance - is attached to Council file. 12-18-07 - Communications and Pictures from the Public, submitted in Planning and Land Use Management Committee, relative to the Mansionization Ordinance - is attached to Council file. 12-19-07 - Communication from Warren Silverberg, dated December 17, 2007, submitted in Planning and Land Use Management Committee, relative to the Mansionization Ordinance - is attached to Council file. 12-19-07 - Communication from George Mooradian, dated December 19, 2007, submitted in Planning and Land Use Management Committee, relative to the Mansionization Ordinance - is attached to Council file. 12-19-07 - Communication from Dick Platkin, dated December 19, 2007, submitted in Planning and Land Use Management Committee, relative to the Mansionization Ordinance - is attached to Council file. 1-2-08 - For ref - Communication from the Chief Legislative Analyst 07-12-2435, dated January 2, 2008, relative to options to conduct an economic/financial impact study of the proposed draft Baseline Mansionization Ordinance. 1-3-08 - Ref to Planning and Land Use Management Committee - to Committee Clerk 1-3-08 - Set for Planning and Land Use Management Committee on January 8, 2008 1-8-08 - Planning and Land Use Management Committee Disposition - City Attorney to prepare Ordinance as amended 1-17-08 - Letter to City Attorney and Chief Legislative Analyst per Planning and Land Use Management Committee Clerk 1-24-08 - Communication from the Public, relative to the Mansionization Ordinance - is attached to Council file. 3-7-08 - For ref - Communication from the Chief Legislative Analyst, dated March 7, 2008, relative to Mansionization Thumbnail Sketch. 3-7-08 - Ref to Planning and Land Use Management Committee - to Committee Clerk 3-25-08 - For ref - Communication from the City Attorney R08-0090, dated March 21, 2008, relative to a final draft ordinance amending Sections 12.03, 12.04, 12.07, 12.07.01, 12.07.1, 12.08, 12.21.1, 12.23, 12.28, 12.32, and adding Section 13.13 to the Los Angeles Municipal Code (LAMC) establishing floor area limitations for residentially zoned properties (RA, RE, RS, and R1) not located in a hillside area or coastal zone - CPC 2007-106-CA (not transmitted). 3-26-08 - Ref to Planning and Land Use Management Committee - to Committee Clerk 3-26-08 - For ref - Communication from the Planning Department, dated March 26, 2008, relative to a proposed Baseline Mansionization Ordinance. 3-27-08 - Ref to Planning and Land Use Management Committee - to Committee Clerk 4-30-08 - Corrected Ordinance from City Attorney relative to amending Sections 12.03, 12.04, 12.07, 12.07.01, 12.07.1, 12.08, 12.21.1, 12.23, 12.28, 12.32, and adding Section 13.13 to the LAMC to establish new regulations for all single-family residential zoned properties (RA, RE, RS, and R1) not located in a Hillside Area or Coastal Zone - to Council Clerk - Attn: Brian W. 5-1-08 - Communication from City Planning Commission, dated May 1, 2008, relative to the proposed Baseline Mansionization Ordinance - is attached to Council file. 5-6-08 - Council Action - Verbal Motion - Cardenas Mover 2008 / Reyes - ADOPTED 5-6-08 - Council Action - Planning and Land Use Management Committee Report ADOPTED *AS AMENDED - Findings ADOPTED - Negative Declaration ADOPTED - Ordinance ADOPTED. 5-7-08 - Community Impact Statement from Valley Village Neighborhood Council, dated May 6, 2008 - is attached to Council file. 5-7-08 - File to Mayor for signature FORTHWITH 5-20-08 - File to Council and Legislative Processing Clerk 5-20-08 - File to Planning and Land Use Management Committee Clerk OK 5-20-08 - File in files 5-21-08 - This day's Council session - Motion - Cardenas Mover 2008 / Reyes - That the Council instruct the Planning Department, with the assistance of the City Attorney, to prepare an ordinance to increase the threshold of maximum garage construction square footage allowed by the recently approved baseline mansionization ordinance from 400 square feet to 600 square feet without reducing the square footage of the home; etc. 5-21-08 - Ref to Planning and Land Use Management Committee 5-21-08 - File to Planning and Land Use Management Committee Clerk 6-20-08 - Set for Planning and Land Use Management Committee on June 24, 2008 6-24-08 - Planning and Land Use Management Committee Disposition - Refer to Planning Department and City Attorney 6-24-08- Communication from the Public, submitted to Planning and Land Use Management Committee - is attached to Council file. 6-25-08 - Communication from the Public, relative to maximum garage construction square footage allowed by the recently approved baseline mansionization ordinance - is attached to Council file.\""
      ]
     },
     "execution_count": 129,
     "metadata": {},
     "output_type": "execute_result"
    }
   ],
   "source": [
    "find_elements_by_text(soup, 'File History')"
   ]
  },
  {
   "cell_type": "code",
   "execution_count": 150,
   "metadata": {},
   "outputs": [
    {
     "data": {
      "text/plain": [
       "{'id': 1,\n",
       " 'title': '4800 Block of Oak Park Avenue / Plan Amendment and Zone Change',\n",
       " 'date_received': '2010-01-29',\n",
       " 'last_modified': '2012-07-09',\n",
       " 'expiration': '2012-02-01',\n",
       " 'references': '',\n",
       " 'district': '5',\n",
       " 'initiated_by': '',\n",
       " 'movers': ['paul koretz'],\n",
       " 'seconds': ['dennis zine'],\n",
       " 'vote_data': {},\n",
       " 'actions': [{'date': '2012-07-09',\n",
       "   'activity': 'File expired per Council policy, Council file No. 05-0553.',\n",
       "   'documents': [{'name': 'Council Action',\n",
       "     'url': 'https://clkrep.lacity.org/onlinedocs/2010/10-0180_ca_7-9-2012.pdf',\n",
       "     'date': '2012-07-09'}]},\n",
       "  {'date': '2010-01-29',\n",
       "   'activity': 'Motion referred to Planning and Land Use Management Committee.',\n",
       "   'documents': [{'name': 'Motion',\n",
       "     'url': 'https://clkrep.lacity.org/onlinedocs/2010/10-0180_mot_1-29-10.pdf',\n",
       "     'date': '2010-01-29'}]}],\n",
       " 'documents': [{'name': 'Council Action',\n",
       "   'url': 'https://clkrep.lacity.org/onlinedocs/2010/10-0180_ca_7-9-2012.pdf',\n",
       "   'date': '2012-07-09'},\n",
       "  {'name': 'Motion',\n",
       "   'url': 'https://clkrep.lacity.org/onlinedocs/2010/10-0180_mot_1-29-10.pdf',\n",
       "   'date': '2010-01-29'}]}"
      ]
     },
     "execution_count": 150,
     "metadata": {},
     "output_type": "execute_result"
    }
   ],
   "source": [
    "from scrapper.spider import get_all, get_vote_info\n",
    "get_all(soup, 1)"
   ]
  },
  {
   "cell_type": "code",
   "execution_count": null,
   "metadata": {},
   "outputs": [],
   "source": []
  }
 ],
 "metadata": {
  "kernelspec": {
   "display_name": "Python 3.8.12 ('py38')",
   "language": "python",
   "name": "python3"
  },
  "language_info": {
   "codemirror_mode": {
    "name": "ipython",
    "version": 3
   },
   "file_extension": ".py",
   "mimetype": "text/x-python",
   "name": "python",
   "nbconvert_exporter": "python",
   "pygments_lexer": "ipython3",
   "version": "3.8.12"
  },
  "orig_nbformat": 4,
  "vscode": {
   "interpreter": {
    "hash": "0f8b9f652a2169550d4f40926e4beb7df01c7dd25c6553c909fb0026fa91ba05"
   }
  }
 },
 "nbformat": 4,
 "nbformat_minor": 2
}
